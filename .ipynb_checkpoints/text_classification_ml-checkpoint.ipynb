{
 "cells": [
  {
   "cell_type": "code",
   "execution_count": null,
   "id": "4298f0ce-4c83-49ae-9dd0-b525ec2e2626",
   "metadata": {},
   "outputs": [],
   "source": [
    "#!pip install codecarbon"
   ]
  },
  {
   "cell_type": "code",
   "execution_count": null,
   "id": "5b25a1a1-91f0-457a-8d5c-edace4740fe1",
   "metadata": {},
   "outputs": [],
   "source": [
    "import pandas as pd\n",
    "from sklearn.datasets import fetch_20newsgroups\n",
    "from sklearn.feature_extraction.text import TfidfVectorizer\n",
    "from sklearn.svm import LinearSVC\n",
    "from sklearn.metrics import classification_report, f1_score\n",
    "from sklearn.model_selection import train_test_split\n",
    "from sklearn.pipeline import Pipeline\n",
    "from sklearn.multiclass import OneVsRestClassifier\n",
    "from sklearn.naive_bayes import MultinomialNB\n",
    "\n",
    "from codecarbon import OfflineEmissionsTracker\n"
   ]
  },
  {
   "cell_type": "code",
   "execution_count": null,
   "id": "01b9390f-f955-4c3d-b3b7-bda07fe8f8de",
   "metadata": {},
   "outputs": [],
   "source": [
    "# Configure training Emission Tracker\n",
    "train_tracker = OfflineEmissionsTracker(\n",
    "    cloud_provider=\"gcp\", \n",
    "    cloud_region=\"europe-west1\", \n",
    "    output_file=\"emissions_training_ml.csv\",\n",
    "    project_name=\"ml_classifier_training\",\n",
    ")"
   ]
  },
  {
   "cell_type": "markdown",
   "id": "b642e031-f4b5-40e0-bb41-a825ed54fffb",
   "metadata": {},
   "source": [
    "# Load dataset"
   ]
  },
  {
   "cell_type": "code",
   "execution_count": null,
   "id": "2f3a3a0b-b75e-4517-88b0-f7b6f5a83d6e",
   "metadata": {},
   "outputs": [],
   "source": [
    "categories = ['alt.atheism', 'talk.religion.misc', 'comp.graphics', 'sci.space']\n",
    "newsgroups_train = fetch_20newsgroups(subset='train', categories=categories)\n",
    "newsgroups_test = fetch_20newsgroups(subset='test', categories=categories)"
   ]
  },
  {
   "cell_type": "markdown",
   "id": "645bf6c2-ba22-4294-b5e0-3e0cc7c99ee6",
   "metadata": {},
   "source": [
    "# Create and train model"
   ]
  },
  {
   "cell_type": "code",
   "execution_count": null,
   "id": "80ab2bea-c605-4a25-ad82-d146b96e6f5a",
   "metadata": {},
   "outputs": [],
   "source": [
    "pipeline = Pipeline([\n",
    "    ('tfidf', TfidfVectorizer()),\n",
    "    ('clf', OneVsRestClassifier(LinearSVC(class_weight=\"balanced\"), n_jobs=-1)),\n",
    "])\n",
    "\n",
    "train_tracker.start()\n",
    "# Compute intensive code goes here\n",
    "pipeline.fit(newsgroups_train.data, newsgroups_train.target)\n",
    "train_tracker.stop()\n",
    "\n",
    "print(f\"Total energy consumed for the training: {train_tracker.final_emissions_data.cpu_energy} KW\")\n",
    "\n",
    "train_predictions = pipeline.predict(newsgroups_train.data)\n",
    "test_predictions = pipeline.predict(newsgroups_test.data)\n",
    "\n",
    "print(\"Train classification report:\")\n",
    "print(classification_report(newsgroups_train.target, train_predictions, target_names=newsgroups_train.target_names))\n",
    "print(\"Test classification report:\")\n",
    "print(classification_report(newsgroups_test.target, test_predictions, target_names=newsgroups_test.target_names))"
   ]
  },
  {
   "cell_type": "markdown",
   "id": "0fba5504-3f75-423a-89d9-d389e8fc357a",
   "metadata": {},
   "source": [
    "# Benchmark inference"
   ]
  },
  {
   "cell_type": "code",
   "execution_count": 1,
   "id": "25894a07-c8cf-4d4c-90e3-c00f7fd050e4",
   "metadata": {},
   "outputs": [
    {
     "ename": "NameError",
     "evalue": "name 'OfflineEmissionsTracker' is not defined",
     "output_type": "error",
     "traceback": [
      "\u001b[0;31m---------------------------------------------------------------------------\u001b[0m",
      "\u001b[0;31mNameError\u001b[0m                                 Traceback (most recent call last)",
      "\u001b[0;32m/tmp/ipykernel_1/268732205.py\u001b[0m in \u001b[0;36m<module>\u001b[0;34m\u001b[0m\n\u001b[0;32m----> 1\u001b[0;31m inference_tracker = OfflineEmissionsTracker(\n\u001b[0m\u001b[1;32m      2\u001b[0m     \u001b[0mcloud_provider\u001b[0m\u001b[0;34m=\u001b[0m\u001b[0;34m\"gcp\"\u001b[0m\u001b[0;34m,\u001b[0m\u001b[0;34m\u001b[0m\u001b[0;34m\u001b[0m\u001b[0m\n\u001b[1;32m      3\u001b[0m     \u001b[0mcloud_region\u001b[0m\u001b[0;34m=\u001b[0m\u001b[0;34m\"europe-west1\"\u001b[0m\u001b[0;34m,\u001b[0m\u001b[0;34m\u001b[0m\u001b[0;34m\u001b[0m\u001b[0m\n\u001b[1;32m      4\u001b[0m     \u001b[0moutput_file\u001b[0m\u001b[0;34m=\u001b[0m\u001b[0;34m\"emissions_predict_ml.csv\"\u001b[0m\u001b[0;34m,\u001b[0m\u001b[0;34m\u001b[0m\u001b[0;34m\u001b[0m\u001b[0m\n\u001b[1;32m      5\u001b[0m     \u001b[0mproject_name\u001b[0m\u001b[0;34m=\u001b[0m\u001b[0;34m\"ml_classifier_prediction\"\u001b[0m\u001b[0;34m,\u001b[0m\u001b[0;34m\u001b[0m\u001b[0;34m\u001b[0m\u001b[0m\n",
      "\u001b[0;31mNameError\u001b[0m: name 'OfflineEmissionsTracker' is not defined"
     ]
    }
   ],
   "source": [
    "inference_tracker = OfflineEmissionsTracker(\n",
    "    cloud_provider=\"gcp\", \n",
    "    cloud_region=\"europe-west1\", \n",
    "    output_file=\"emissions_predict_ml.csv\",\n",
    "    project_name=\"ml_classifier_prediction\",\n",
    ")\n",
    "\n",
    "predicted_sentence = copy(newsgroups_test.target)\n",
    "inference_tracker.start()\n",
    "for i in range(10e6):\n",
    "    pipeline.predict(predicted_sentence)\n",
    "inference_tracker.stop()\n",
    "\n",
    "print(f\"Total energy consumed for a prediction of 1M sentences: {inference_tracker.final_emissions_data.cpu_energy} KW\")"
   ]
  },
  {
   "cell_type": "code",
   "execution_count": null,
   "id": "2182d91b-7cf1-4e38-aa72-288350faa2b0",
   "metadata": {},
   "outputs": [],
   "source": []
  }
 ],
 "metadata": {
  "kernelspec": {
   "display_name": "Python [conda env:root] * (Local)",
   "language": "python",
   "name": "local-conda-root-base"
  },
  "language_info": {
   "codemirror_mode": {
    "name": "ipython",
    "version": 3
   },
   "file_extension": ".py",
   "mimetype": "text/x-python",
   "name": "python",
   "nbconvert_exporter": "python",
   "pygments_lexer": "ipython3",
   "version": "3.7.12"
  }
 },
 "nbformat": 4,
 "nbformat_minor": 5
}
