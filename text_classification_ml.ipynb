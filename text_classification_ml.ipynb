{
 "cells": [
  {
   "cell_type": "code",
   "execution_count": 1,
   "id": "4298f0ce-4c83-49ae-9dd0-b525ec2e2626",
   "metadata": {},
   "outputs": [
    {
     "name": "stdout",
     "output_type": "stream",
     "text": [
      "Collecting codecarbon\n",
      "  Using cached codecarbon-2.1.4-py3-none-any.whl (174 kB)\n",
      "Requirement already satisfied: arrow in /opt/conda/lib/python3.7/site-packages (from codecarbon) (1.2.2)\n",
      "Requirement already satisfied: requests in /opt/conda/lib/python3.7/site-packages (from codecarbon) (2.27.1)\n",
      "Collecting py-cpuinfo\n",
      "  Using cached py_cpuinfo-9.0.0-py3-none-any.whl (22 kB)\n",
      "Collecting fuzzywuzzy\n",
      "  Using cached fuzzywuzzy-0.18.0-py2.py3-none-any.whl (18 kB)\n",
      "Collecting pynvml\n",
      "  Using cached pynvml-11.4.1-py3-none-any.whl (46 kB)\n",
      "Requirement already satisfied: click in /opt/conda/lib/python3.7/site-packages (from codecarbon) (8.0.4)\n",
      "Requirement already satisfied: pandas in /opt/conda/lib/python3.7/site-packages (from codecarbon) (1.3.5)\n",
      "Requirement already satisfied: psutil in /opt/conda/lib/python3.7/site-packages (from codecarbon) (5.9.0)\n",
      "Requirement already satisfied: python-dateutil>=2.7.0 in /opt/conda/lib/python3.7/site-packages (from arrow->codecarbon) (2.8.2)\n",
      "Requirement already satisfied: typing-extensions in /opt/conda/lib/python3.7/site-packages (from arrow->codecarbon) (4.1.1)\n",
      "Requirement already satisfied: importlib-metadata in /opt/conda/lib/python3.7/site-packages (from click->codecarbon) (4.11.3)\n",
      "Requirement already satisfied: pytz>=2017.3 in /opt/conda/lib/python3.7/site-packages (from pandas->codecarbon) (2021.3)\n",
      "Requirement already satisfied: numpy>=1.17.3 in /opt/conda/lib/python3.7/site-packages (from pandas->codecarbon) (1.19.5)\n",
      "Requirement already satisfied: urllib3<1.27,>=1.21.1 in /opt/conda/lib/python3.7/site-packages (from requests->codecarbon) (1.26.8)\n",
      "Requirement already satisfied: charset-normalizer~=2.0.0 in /opt/conda/lib/python3.7/site-packages (from requests->codecarbon) (2.0.12)\n",
      "Requirement already satisfied: certifi>=2017.4.17 in /opt/conda/lib/python3.7/site-packages (from requests->codecarbon) (2021.10.8)\n",
      "Requirement already satisfied: idna<4,>=2.5 in /opt/conda/lib/python3.7/site-packages (from requests->codecarbon) (3.3)\n",
      "Requirement already satisfied: six>=1.5 in /opt/conda/lib/python3.7/site-packages (from python-dateutil>=2.7.0->arrow->codecarbon) (1.16.0)\n",
      "Requirement already satisfied: zipp>=0.5 in /opt/conda/lib/python3.7/site-packages (from importlib-metadata->click->codecarbon) (3.7.0)\n",
      "Installing collected packages: py-cpuinfo, fuzzywuzzy, pynvml, codecarbon\n",
      "Successfully installed codecarbon-2.1.4 fuzzywuzzy-0.18.0 py-cpuinfo-9.0.0 pynvml-11.4.1\n"
     ]
    }
   ],
   "source": [
    "!pip install codecarbon"
   ]
  },
  {
   "cell_type": "code",
   "execution_count": 7,
   "id": "5b25a1a1-91f0-457a-8d5c-edace4740fe1",
   "metadata": {},
   "outputs": [],
   "source": [
    "import pandas as pd\n",
    "from sklearn.datasets import fetch_20newsgroups\n",
    "from sklearn.feature_extraction.text import TfidfVectorizer\n",
    "from sklearn.svm import LinearSVC\n",
    "from sklearn.metrics import classification_report, f1_score\n",
    "from sklearn.model_selection import train_test_split\n",
    "from sklearn.pipeline import Pipeline\n",
    "from sklearn.multiclass import OneVsRestClassifier\n",
    "from sklearn.naive_bayes import MultinomialNB\n",
    "\n",
    "from codecarbon import OfflineEmissionsTracker\n",
    "from copy import deepcopy"
   ]
  },
  {
   "cell_type": "code",
   "execution_count": null,
   "id": "01b9390f-f955-4c3d-b3b7-bda07fe8f8de",
   "metadata": {},
   "outputs": [],
   "source": [
    "# Configure training Emission Tracker\n",
    "train_tracker = OfflineEmissionsTracker(\n",
    "    measure_power_secs=3600,\n",
    "    cloud_provider=\"gcp\", \n",
    "    cloud_region=\"europe-west1\", \n",
    "    output_file=\"emissions_training_ml.csv\",\n",
    "    project_name=\"ml_classifier_training\",\n",
    ")"
   ]
  },
  {
   "cell_type": "markdown",
   "id": "b642e031-f4b5-40e0-bb41-a825ed54fffb",
   "metadata": {},
   "source": [
    "# Load dataset"
   ]
  },
  {
   "cell_type": "code",
   "execution_count": 4,
   "id": "2f3a3a0b-b75e-4517-88b0-f7b6f5a83d6e",
   "metadata": {},
   "outputs": [],
   "source": [
    "categories = ['alt.atheism', 'talk.religion.misc', 'comp.graphics', 'sci.space']\n",
    "newsgroups_train = fetch_20newsgroups(subset='train', categories=categories)\n",
    "newsgroups_test = fetch_20newsgroups(subset='test', categories=categories)"
   ]
  },
  {
   "cell_type": "markdown",
   "id": "645bf6c2-ba22-4294-b5e0-3e0cc7c99ee6",
   "metadata": {},
   "source": [
    "# Create and train model"
   ]
  },
  {
   "cell_type": "code",
   "execution_count": 5,
   "id": "80ab2bea-c605-4a25-ad82-d146b96e6f5a",
   "metadata": {},
   "outputs": [
    {
     "name": "stderr",
     "output_type": "stream",
     "text": [
      "[codecarbon INFO @ 22:53:58] Energy consumed for RAM : 0.000003 kWh. RAM Power : 5.5055108070373535 W\n",
      "[codecarbon INFO @ 22:53:58] Energy consumed for all GPUs : 0.000017 kWh. All GPUs Power : 32.675 W\n",
      "[codecarbon INFO @ 22:53:58] Energy consumed for all CPUs : 0.000022 kWh. All CPUs Power : 42.5 W\n",
      "[codecarbon INFO @ 22:53:58] 0.000041 kWh of electricity used since the begining.\n"
     ]
    },
    {
     "name": "stdout",
     "output_type": "stream",
     "text": [
      "Total energy consumed for the training: 2.1576739682091607e-05 KW\n",
      "Train classification report:\n",
      "                    precision    recall  f1-score   support\n",
      "\n",
      "       alt.atheism       1.00      1.00      1.00       480\n",
      "     comp.graphics       1.00      1.00      1.00       584\n",
      "         sci.space       1.00      1.00      1.00       593\n",
      "talk.religion.misc       1.00      1.00      1.00       377\n",
      "\n",
      "          accuracy                           1.00      2034\n",
      "         macro avg       1.00      1.00      1.00      2034\n",
      "      weighted avg       1.00      1.00      1.00      2034\n",
      "\n",
      "Test classification report:\n",
      "                    precision    recall  f1-score   support\n",
      "\n",
      "       alt.atheism       0.86      0.82      0.84       319\n",
      "     comp.graphics       0.92      0.96      0.94       389\n",
      "         sci.space       0.95      0.95      0.95       394\n",
      "talk.religion.misc       0.79      0.78      0.78       251\n",
      "\n",
      "          accuracy                           0.89      1353\n",
      "         macro avg       0.88      0.88      0.88      1353\n",
      "      weighted avg       0.89      0.89      0.89      1353\n",
      "\n"
     ]
    }
   ],
   "source": [
    "pipeline = Pipeline([\n",
    "    ('tfidf', TfidfVectorizer()),\n",
    "    ('clf', OneVsRestClassifier(LinearSVC(class_weight=\"balanced\"), n_jobs=-1)),\n",
    "])\n",
    "\n",
    "train_tracker.start()\n",
    "# Compute intensive code goes here\n",
    "pipeline.fit(newsgroups_train.data, newsgroups_train.target)\n",
    "train_tracker.stop()\n",
    "\n",
    "print(f\"Total energy consumed for the training: {train_tracker.final_emissions_data.cpu_energy} KW\")\n",
    "\n",
    "train_predictions = pipeline.predict(newsgroups_train.data)\n",
    "test_predictions = pipeline.predict(newsgroups_test.data)\n",
    "\n",
    "print(\"Train classification report:\")\n",
    "print(classification_report(newsgroups_train.target, train_predictions, target_names=newsgroups_train.target_names))\n",
    "print(\"Test classification report:\")\n",
    "print(classification_report(newsgroups_test.target, test_predictions, target_names=newsgroups_test.target_names))"
   ]
  },
  {
   "cell_type": "markdown",
   "id": "0fba5504-3f75-423a-89d9-d389e8fc357a",
   "metadata": {},
   "source": [
    "# Benchmark inference"
   ]
  },
  {
   "cell_type": "code",
   "execution_count": null,
   "id": "25894a07-c8cf-4d4c-90e3-c00f7fd050e4",
   "metadata": {},
   "outputs": [
    {
     "name": "stderr",
     "output_type": "stream",
     "text": [
      "[codecarbon INFO @ 23:49:05] Energy consumed for RAM : 0.004649 kWh. RAM Power : 5.5055108070373535 W\n",
      "[codecarbon INFO @ 23:49:05] Energy consumed for all GPUs : 0.027583 kWh. All GPUs Power : 32.675 W\n",
      "[codecarbon INFO @ 23:49:05] Energy consumed for all CPUs : 0.035940 kWh. All CPUs Power : 42.5 W\n",
      "[codecarbon INFO @ 23:49:05] 0.068173 kWh of electricity used since the begining.\n",
      "[codecarbon INFO @ 23:49:05] Energy consumed for RAM : 0.004672 kWh. RAM Power : 5.5055108070373535 W\n",
      "[codecarbon INFO @ 23:49:05] Energy consumed for all GPUs : 0.027719 kWh. All GPUs Power : 32.675 W\n",
      "[codecarbon INFO @ 23:49:05] Energy consumed for all CPUs : 0.036117 kWh. All CPUs Power : 42.5 W\n",
      "[codecarbon INFO @ 23:49:05] 0.068508 kWh of electricity used since the begining.\n"
     ]
    }
   ],
   "source": [
    "inference_tracker = OfflineEmissionsTracker(\n",
    "    measure_power_secs=3600,\n",
    "    cloud_provider=\"gcp\", \n",
    "    cloud_region=\"europe-west1\", \n",
    "    output_file=\"emissions_predict_ml.csv\",\n",
    "    project_name=\"ml_classifier_prediction\",\n",
    ")\n",
    "\n",
    "predicted_sentence = deepcopy(newsgroups_test.data)\n",
    "inference_tracker.start()\n",
    "for i in range(int(10)):\n",
    "    pipeline.predict(predicted_sentence)\n",
    "inference_tracker.stop()\n",
    "\n",
    "print(f\"Total energy consumed for a prediction of 1M sentences: {inference_tracker.final_emissions_data.cpu_energy} KW\")"
   ]
  }
 ],
 "metadata": {
  "kernelspec": {
   "display_name": "Python [conda env:root] * (Local)",
   "language": "python",
   "name": "local-conda-root-base"
  },
  "language_info": {
   "codemirror_mode": {
    "name": "ipython",
    "version": 3
   },
   "file_extension": ".py",
   "mimetype": "text/x-python",
   "name": "python",
   "nbconvert_exporter": "python",
   "pygments_lexer": "ipython3",
   "version": "3.7.12"
  }
 },
 "nbformat": 4,
 "nbformat_minor": 5
}
